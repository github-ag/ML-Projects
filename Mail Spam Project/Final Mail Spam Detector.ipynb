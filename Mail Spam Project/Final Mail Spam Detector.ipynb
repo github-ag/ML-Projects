{
 "cells": [
  {
   "cell_type": "code",
   "execution_count": 1,
   "metadata": {},
   "outputs": [],
   "source": [
    "import numpy as np\n",
    "import pandas as pd\n",
    "import matplotlib.pyplot as plt"
   ]
  },
  {
   "cell_type": "code",
   "execution_count": 9,
   "metadata": {},
   "outputs": [],
   "source": [
    "from nltk.tokenize import RegexpTokenizer\n",
    "from nltk.corpus import stopwords\n",
    "from nltk.stem.snowball import SnowballStemmer"
   ]
  },
  {
   "cell_type": "code",
   "execution_count": 10,
   "metadata": {},
   "outputs": [],
   "source": [
    "from sklearn.feature_extraction.text import CountVectorizer"
   ]
  },
  {
   "cell_type": "code",
   "execution_count": 11,
   "metadata": {},
   "outputs": [],
   "source": [
    "import imaplib\n",
    "import email"
   ]
  },
  {
   "cell_type": "code",
   "execution_count": 12,
   "metadata": {},
   "outputs": [
    {
     "name": "stdout",
     "output_type": "stream",
     "text": [
      "20\n",
      "20\n"
     ]
    }
   ],
   "source": [
    "with open(\"Sample Mails.txt\",'r') as file:\n",
    "    data = file.readlines()\n",
    "\n",
    "X = []\n",
    "Y = []\n",
    "# dividing the data into message part and label part\n",
    "for mail in data:\n",
    "    mail_parts = mail.split('\\t')\n",
    "    label = mail_parts[0]\n",
    "    message = ' '.join(mail_parts[1:])\n",
    "    X.append(message)\n",
    "    Y.append(label)\n",
    "\n",
    "print(len(X))\n",
    "print(len(Y))\n"
   ]
  },
  {
   "cell_type": "code",
   "execution_count": 13,
   "metadata": {},
   "outputs": [
    {
     "name": "stdout",
     "output_type": "stream",
     "text": [
      "I want to visit Mauritius this summer so need to get some informations regarding the same. So what's the minimum tour package , whats services would I be provided in this package?, like all the complete details u can provide me.Regards.\n",
      "\n"
     ]
    }
   ],
   "source": [
    "print(X[0])"
   ]
  },
  {
   "cell_type": "code",
   "execution_count": 14,
   "metadata": {},
   "outputs": [],
   "source": [
    "tokenizer = RegexpTokenizer(r'\\w+')\n",
    "sw = set(stopwords.words('english'))\n",
    "ss = SnowballStemmer(\"english\")"
   ]
  },
  {
   "cell_type": "code",
   "execution_count": 15,
   "metadata": {},
   "outputs": [],
   "source": [
    "def clean_mail(sentence):\n",
    "    sentence = sentence.lower()\n",
    "    sentence = sentence.replace(\"\\n\",\"\")\n",
    "    word_list = tokenizer.tokenize(sentence)\n",
    "    word_list = [w for w in word_list if w not in sw]\n",
    "    final_list = [ss.stem(w) for w in word_list]\n",
    "    new_sentence = ' '.join(final_list)\n",
    "    \n",
    "    return new_sentence"
   ]
  },
  {
   "cell_type": "code",
   "execution_count": 16,
   "metadata": {},
   "outputs": [],
   "source": [
    "X_clean = [clean_mail(i) for i in X]"
   ]
  },
  {
   "cell_type": "code",
   "execution_count": 17,
   "metadata": {},
   "outputs": [
    {
     "name": "stdout",
     "output_type": "stream",
     "text": [
      "20\n"
     ]
    }
   ],
   "source": [
    "print(len(X_clean))"
   ]
  },
  {
   "cell_type": "code",
   "execution_count": 18,
   "metadata": {},
   "outputs": [
    {
     "name": "stdout",
     "output_type": "stream",
     "text": [
      "want visit mauritius summer need get inform regard minimum tour packag what servic would provid packag like complet detail u provid regard\n"
     ]
    }
   ],
   "source": [
    "print(X_clean[0])"
   ]
  },
  {
   "cell_type": "code",
   "execution_count": 19,
   "metadata": {},
   "outputs": [],
   "source": [
    "### Vectorization"
   ]
  },
  {
   "cell_type": "code",
   "execution_count": 20,
   "metadata": {},
   "outputs": [],
   "source": [
    "cv = CountVectorizer(ngram_range=(1,2))\n",
    "x_vec = cv.fit_transform(X_clean).toarray()"
   ]
  },
  {
   "cell_type": "code",
   "execution_count": 21,
   "metadata": {},
   "outputs": [
    {
     "name": "stdout",
     "output_type": "stream",
     "text": [
      "[[0 0 0 ... 0 0 0]\n",
      " [0 0 0 ... 1 0 0]\n",
      " [0 0 0 ... 0 0 0]\n",
      " ...\n",
      " [0 0 0 ... 0 0 0]\n",
      " [0 0 0 ... 0 0 0]\n",
      " [0 0 0 ... 0 0 0]]\n",
      "(20, 1750)\n"
     ]
    }
   ],
   "source": [
    "print(x_vec)\n",
    "print(x_vec.shape)"
   ]
  },
  {
   "cell_type": "code",
   "execution_count": 22,
   "metadata": {},
   "outputs": [
    {
     "name": "stdout",
     "output_type": "stream",
     "text": [
      "['00', '00 04', '00 deposit', '00 go', '00 money', '00 paid', '00 payment', '00 requir', '00 secur', '000', '000 00', '000 000', '000 300', '000 inr', '000 valid', '000 well', '001', '001 0922', '0096', '0096 8889', '04', '04 00', '04 20', '0922', '0922 swift', '10', '10 8036', '10 day', '10 engin', '100', '100 largest', '13', '13 000', '13 6000', '13 million', '13 snov', '1355853927873650', '1355853927873650 link', '14august', '14august gmail', '16', '16 https', '17', '17 https', '18', '18 https', '18 month', '1st', '1st 5th', '1st 7th', '1st march', '20', '20 gmt', '20 minut', '2017', '2017 happi', '2018', '2018 24', '2019', '2019 28th', '2019 4th', '2019 base', '2019 beconiitd', '2019 exclus', '2019 facilit', '2019 pleas', '2019 registr', '2019 rs', '2019 take', '20th', '20th februari', '2250814898', '2250814898 jxy6jcfnbpwc3zowneevnbe2wgcmuxw', '24', '24 wall', '250', '250 time', '28th', '28th februari', '2vnlvxe', '2vnlvxe 68mwc7', '30', '30 djs', '30 minut', '300', '300 colleg', '300 particip', '31', '31st', '31st march', '347', '347 time', '35', '35 000', '350', '350 person', '374912', '374912 2vnlvxe', '400', '400 deleg', '4th', '4th march', '50', '50 enrol', '500', '500 00', '500 compani', '500 itun', '5th', '5th april', '5ttspnnf46n', '5ttspnnf46n detail', '6000', '6000 000', '68mwc7', '68mwc7 2250814898', '700', '700 earli', '7011875112', '75', '75 000', '7th', '7th march', '8036', '8036 rich', '85', '85 000', '8889', '8889 001', '8th', '8th highest', '900', '900 20th', 'ab', 'ab bank', 'abhishek', 'abhishek garg', 'abhishek sethi', 'abhishekgarg', 'abhishekgarg 14august', 'access', 'access certifi', 'accommod', 'accommod cost', 'accommod locat', 'accommod servic', 'accompani', 'accompani 2018', 'accord', 'accord studi', 'account', 'account 0096', 'account bank', 'account detail', 'account full', 'account hsbc', 'account name', 'accredit', 'accredit ministri', 'ad', 'ad drip', 'address', 'address home', 'address person', 'adress', 'adress kalkbreitestrass', 'advic', 'advic furnish', 'advis', 'advis pay', 'affidavit', 'affidavit claim', 'afl', 'afl cio', 'age', 'age marit', 'ai', 'ai elig', 'ai foreign', 'ai liverpool', 'aida', 'aida effect', 'almost', 'almost alway', 'also', 'also good', 'also offer', 'alswch21xxx', 'alswch21xxx pleas', 'altern', 'altern bank', 'alway', 'alway highest', 'american', 'american compani', 'amit', 'amit trivedi', 'among', 'among top', 'amongst', 'amongst top', 'amount', 'amount cost', 'annual', 'annual busi', 'annual cultur', 'annual lot', 'apart', 'apart food', 'apis', 'apis lene', 'apolog', 'apolog inconveni', 'appl', 'appl itun', 'approach', 'approach pleas', 'approv', 'approv accredit', 'approv fund', 'approv today', 'april', 'april 2019', 'around', 'around 1st', 'around 250', 'asia', 'asia approv', 'asia foreign', 'associ', 'associ discuss', 'associ entrepreneurship', 'associ propos', 'atm', 'atm debit', 'attach', 'attach detail', 'attach herewith', 'baad', 'baad compani', 'baar', 'baar apis', 'baazon', 'baazon ek', 'back', 'back email', 'back soon', 'bank', 'bank account', 'bank adress', 'bank central', 'bank detail', 'bank director', 'bank held', 'bank name', 'bank need', 'bank proceed', 'bank switzerland', 'bank usa', 'base', 'base meet', 'base respons', 'bassjack', 'bassjack amongst', 'becon', 'becon 2019', 'beconiitd', 'beconiitd com', 'beneficiari', 'beneficiari first', 'benefit', 'benefit free', 'best', 'best time', 'better', 'better faster', 'bhosdiwaalo', 'biggest', 'biggest busi', 'biggest cultur', 'bird', 'bird scholarship', 'bird till', 'blogger', 'blogger easier', 'board', 'board world', 'boy', 'boy let', 'break', 'break make', 'brief', 'brief meet', 'broad', 'broad understand', 'brochur', 'brochur understand', 'build', 'build outreach', 'built', 'built aida', 'busi', 'busi entrepreneurship', 'buy', 'buy 500', 'buy appl', 'calcutta', 'calcutta yale', 'came', 'came offic', 'campaign', 'campaign templat', 'card', 'card affidavit', 'card buy', 'card certifi', 'card confirm', 'card deliv', 'card scratch', 'card send', 'card soon', 'card take', 'career', 'career launcher', 'case', 'case prefer', 'cash', 'cash advis', 'caus', 'caus even', 'cell', 'cell iit', 'cell phone', 'central', 'central asia', 'ceo', 'ceo 500', 'ceo compani', 'ceo compens', 'ceo highest', 'ceo studi', 'certif', 'certif 13', 'certif noth', 'certif readi', 'certif receiv', 'certif would', 'certifi', 'certifi check', 'certifi one', 'certifi workshop', 'chat', 'chat thank', 'chauhan', 'chauhan piyush', 'check', 'check atm', 'check get', 'check payment', 'chief', 'chief execut', 'choic', 'choic take', 'choos', 'choos varieti', 'chutiya', 'chutiya compani', 'cio', 'cio typic', 'cizbqtj1xfc', 'cizbqtj1xfc upcom', 'claim', 'claim certif', 'claim true', 'cm6ghztdpuq', 'cm6ghztdpuq feel', 'code', 'code alswch21xxx', 'colleg', 'colleg engifest', 'colleg engin', 'colleg india', 'colleg particip', 'com', 'com 374912', 'com day', 'com edciitdelhi', 'com engifest', 'com indian', 'com inform', 'com offici', 'com type', 'com watch', 'come', 'come fund', 'come top', 'committe', 'committe foreign', 'compani', 'compani earn', 'compani friend', 'compani intens', 'compani packag', 'compani revenu', 'compani total', 'compani vala', 'compar', 'compar figur', 'compens', 'compens 31', 'compens packag', 'compens payment', 'competit', 'competit special', 'complet', 'complet detail', 'complet kind', 'complet program', 'comprehens', 'comprehens detail', 'comprehens practic', 'comprehens present', 'comptrol', 'comptrol offic', 'concept', 'concept involv', 'concern', 'concern pleas', 'conclav', 'conclav edc', 'conclud', 'conclud pay', 'confer', 'confer fee', 'confirm', 'confirm within', 'connect', 'connect blogger', 'contact', 'contact legal', 'contact today', 'contract', 'contract fund', 'contract respect', 'copywrit', 'copywrit formula', 'corpor', 'corpor execut', 'correct', 'correct verif', 'cost', 'cost access', 'cost per', 'cost rs', 'could', 'could visit', 'council', 'council delhi', 'council engifest', 'cover', 'cover singapor', 'cross', 'cross check', 'cultur', 'cultur council', 'cultur fest', 'cultur festiv', 'cup', 'cup tea', 'date', 'date 1st', 'date 31st', 'date would', 'day', 'day accommod', 'day apart', 'day extravaganza', 'day famili', 'day internship', 'day period', 'day spent', 'day summit', 'day take', 'day today', 'day trip', 'dce', 'dce day', 'debat', 'debat whether', 'debit', 'debit card', 'degre', 'degre machin', 'degre sc', 'deleg', 'deleg becon', 'deleg email', 'deleg entir', 'deleg note', 'deleg would', 'delhi', 'delhi also', 'delhi becon', 'delhi biggest', 'delhi colleg', 'delhi comprehens', 'delhi give', 'delhi poster', 'delhi present', 'delhi technolog', 'deliv', 'deliv home', 'depart', 'depart fund', 'deposit', 'deposit direct', 'deposit hsbc', 'detail', 'detail 10', 'detail day', 'detail explor', 'detail fund', 'detail http', 'detail identif', 'detail itinerari', 'detail note', 'detail provid', 'detail regard', 'detail said', 'detail sent', 'detail visit', 'develop', 'develop cell', 'direct', 'direct account', 'direct bank', 'direct contact', 'direct wire', 'director', 'director board', 'director howev', 'discuss', 'discuss detail', 'djs', 'djs world', 'dollar', 'dollar 13', 'dollar success', 'download', 'download program', 'dream', 'dream realiti', 'drip', 'drip campaign', 'driver', 'driver licens', 'dtu', 'dtu among', 'dtu cultur', 'due', 'due contract', 'due fund', 'due inherit', 'durat', 'durat 18', 'earli', 'earli bird', 'earn', 'earn 347', 'easi', 'easi read', 'easier', 'easier comprehens', 'edc', 'edc iit', 'edciitdelhi', 'edciitdelhi regard', 'edit', 'edit fest', 'effect', 'effect copywrit', 'eight', 'eight figur', 'ek', 'ek baar', 'elig', 'elig earli', 'email', 'email abhishekgarg', 'email accommod', 'email enabl', 'email templat', 'email thank', 'emphat', 'emphat would', 'employe', 'employe non', 'employe organ', 'enabl', 'enabl hsbc', 'enabl us', 'engifest', 'engifest 16', 'engifest 17', 'engifest 18', 'engifest annual', 'engifest footfal', 'engifest make', 'engifest one', 'engifest video', 'engin', 'engin colleg', 'engin look', 'enhanc', 'enhanc network', 'enrol', 'enrol hurri', 'enrol today', 'entir', 'entir day', 'entrepreneurship', 'entrepreneurship conclav', 'entrepreneurship develop', 'entrepreneurship event', 'even', 'even exuber', 'even though', 'even well', 'event', 'event edc', 'event iit', 'ever', 'ever onlin', 'except', 'except ceo', 'exclus', 'exclus benefit', 'execut', 'execut 7011875112', 'execut member', 'execut offic', 'expect', 'expect urgent', 'experi', 'experi regist', 'explor', 'explor various', 'extend', 'extend social', 'extravaganza', 'extravaganza dtu', 'exuber', 'exuber emphat', 'facebook', 'facebook com', 'facebook page', 'facilit', 'facilit stay', 'famili', 'famili trip', 'far', 'far success', 'faster', 'faster question', 'featur', 'featur certif', 'februari', 'februari 2019', 'februari hurrah', 'fee', 'fee appl', 'fee day', 'fee follow', 'fee requir', 'fee would', 'feel', 'feel free', 'fest', 'fest engifest', 'fest india', 'fest north', 'fest wit', 'festiv', 'festiv delhi', 'figur', 'figur annual', 'figur india', 'file', 'file correct', 'final', 'final certifi', 'financ', 'financ senat', 'financ workshop', 'first', 'first 50', 'first ever', 'first quarter', 'flagship', 'flagship event', 'follow', 'follow format', 'follow link', 'follow registr', 'follow up', 'food', 'food snack', 'footfal', 'footfal 75', 'footfal far', 'foreign', 'foreign due', 'foreign univers', 'form', 'form hfducn9jlyixoopo2', 'form top', 'format', 'format mail', 'former', 'former dce', 'formula', 'formula simplifi', 'fraud', 'fraud total', 'free', 'free cost', 'free reach', 'free write', 'friend', 'friend would', 'full', 'full name', 'fund', 'fund 13', 'fund comptrol', 'fund contract', 'fund gazet', 'fund pay', 'fund strict', 'fund transfer', 'furnish', 'furnish us', 'gaand', 'gaand mara', 'gala', 'gala promis', 'gap', 'gap justifi', 'garg', 'garg email', 'gazet', 'gazet releas', 'get', 'get back', 'get inform', 'get itun', 'get master', 'get opportun', 'gift', 'gift card', 'gili', 'gili account', 'gili hear', 'give', 'give broad', 'give us', 'gl', 'gl form', 'gl map', 'gmail', 'gmail com', 'gmt', 'gmt like', 'go', 'go buy', 'go store', 'goa', 'goa date', 'goo', 'goo gl', 'good', 'good place', 'good reason', 'got', 'got know', 'greet', 'greet cultur', 'greet dtu', 'greet edc', 'greet mail', 'greet sir', 'greet upgrad', 'happi', 'happi inform', 'hard', 'hard learn', 'hear', 'hear within', 'held', 'held new', 'held respons', 'held today', 'hello', 'hello sir', 'help', 'help snov', 'herewith', 'herewith kind', 'hey', 'hey saini', 'hfducn9jlyixoopo2', 'hfducn9jlyixoopo2 want', 'hi', 'hi got', 'hi sachin', 'hi vaibhav', 'highest', 'highest paid', 'highest rank', 'home', 'home address', 'home cell', 'home indira', 'hostel', 'hostel saket', 'hous', 'hous committe', 'howev', 'howev shall', 'hsbc', 'hsbc bank', 'http', 'http beconiitd', 'http www2', 'https', 'https goo', 'https www', 'https youtu', 'huge', 'huge rise', 'hurrah', 'hurrah ad', 'hurri', 'hurri seat', 'idea', 'idea investor', 'identif', 'identif like', 'iim', 'iim calcutta', 'iit', 'iit date', 'iit delhi', 'immedi', 'immedi confirm', 'immedi request', 'immens', 'immens pleasur', 'includ', 'includ confer', 'inclus', 'inclus registr', 'inclus tax', 'inconveni', 'inconveni may', 'india', 'india around', 'india footfal', 'india link', 'india wit', 'indian', 'indian deleg', 'indira', 'indira nooyi', 'inform', 'inform bank', 'inform fund', 'inform place', 'inform regard', 'inform us', 'inherit', 'inherit fund', 'inr', 'inr inclus', 'insight', 'insight comprehens', 'instruct', 'instruct rs', 'int', 'int passport', 'intens', 'intens thrill', 'interest', 'interest regard', 'internship', 'internship program', 'introduc', 'introduc annual', 'invest', 'invest insight', 'invest salient', 'invest sensibl', 'investor', 'investor easi', 'involv', 'involv risk', 'io', 'io servic', 'io team', 'io via', 'issu', 'issu payment', 'itinerari', 'itinerari trip', 'itun', 'itun card', 'itun gift', 'job', 'job major', 'john', 'john moor', 'justifi', 'justifi pressur', 'jxy6jcfnbpwc3zowneevnbe2wgcmuxw', 'jxy6jcfnbpwc3zowneevnbe2wgcmuxw cm6ghztdpuq', 'kalkbreitestrass', 'kalkbreitestrass 10', 'ke', 'ke baad', 'key', 'key telex', 'kind', 'kind go', 'kind learn', 'kind perus', 'know', 'know compani', 'know detail', 'know good', 'know readi', 'know wednesday', 'koi', 'koi phone', 'ktt', 'ktt direct', 'largest', 'largest public', 'last', 'last day', 'last three', 'latest', 'latest product', 'launcher', 'launcher associ', 'learn', 'learn ai', 'learn experi', 'learn invest', 'left', 'left detail', 'legal', 'legal depart', 'lene', 'lene ke', 'let', 'let know', 'let see', 'letter', 'letter claim', 'licens', 'licens expect', 'like', 'like amit', 'like associ', 'like complet', 'like int', 'like know', 'like notic', 'link', 'link base', 'link build', 'link http', 'link https', 'link movi', 'liverpool', 'liverpool john', 'lo', 'lo bhosdiwaalo', 'locat', 'locat hostel', 'look', 'look attach', 'look sponsor', 'lot', 'lot zero', 'lower', 'lower 347', 'machin', 'machin learn', 'machin need', 'mail', 'mail come', 'mail instruct', 'mainten', 'mainten take', 'major', 'major compani', 'make', 'make biggest', 'make cup', 'make money', 'malaysia', 'malaysia date', 'man', 'man bank', 'man came', 'manag', 'manag invest', 'map', 'map 5ttspnnf46n', 'mara', 'mara lo', 'march', 'march 13', 'march 2019', 'marco', 'marco gili', 'marit', 'marit status', 'massiv', 'massiv debat', 'master', 'master degre', 'master program', 'mastersml', 'mastersml upgrad', 'matter', 'matter urgenc', 'mauritius', 'mauritius summer', 'may', 'may caus', 'mba', 'mba iim', 'meanwhil', 'meanwhil man', 'meet', 'meet held', 'member', 'member offic', 'messag', 'messag enabl', 'messag pleas', 'mexico', 'mexico place', 'million', 'million dollar', 'minimum', 'minimum tour', 'ministri', 'ministri financ', 'minut', 'minut servic', 'minut upon', 'mishra', 'mishra nucleya', 'money', 'money deposit', 'money time', 'money work', 'monitor', 'monitor payment', 'month', 'month price', 'month sinc', 'moor', 'moor univers', 'movi', 'movi engifest', 'much', 'much typic', 'multipurpos', 'multipurpos special', 'name', 'name abhishek', 'name address', 'name altern', 'name marco', 'need', 'need get', 'need provid', 'need servic', 'network', 'network skill', 'new', 'new delhi', 'new director', 'new snovio', 'next', 'next seven', 'nhi', 'nhi uthata', 'non', 'non supervisori', 'nooyi', 'nooyi pepsico', 'north', 'north india', 'note', 'note 500', 'note get', 'note select', 'note today', 'noth', 'noth case', 'notic', 'notic also', 'notifi', 'notifi due', 'nucleya', 'nucleya previous', 'occup', 'occup account', 'ofcours', 'ofcours almost', 'offer', 'offer certifi', 'offer deleg', 'offer paid', 'offic', 'offic ceo', 'offic conclud', 'offic contact', 'offic matter', 'offic yesterday', 'offici', 'offici facebook', 'offici websit', 'offlin', 'offlin 04', 'oh', 'oh whole', 'oil', 'oil machin', 'one', 'one accord', 'one biggest', 'one day', 'one kind', 'onlin', 'onlin chat', 'onlin master', 'onlin proctor', 'opportun', 'opportun extend', 'opportun part', 'order', 'order know', 'organ', 'organ ofcours', 'origin', 'origin beneficiari', 'outreach', 'outreach process', 'packag', 'packag 100', 'packag eight', 'packag like', 'packag what', 'page', 'page https', 'paid', 'paid accommod', 'paid atm', 'paid ceo', 'paid one', 'part', 'part becon', 'particip', 'particip colleg', 'particip would', 'partner', 'partner annual', 'passport', 'passport driver', 'pay', 'pay 500', 'pay fee', 'pay foreign', 'pay remain', 'pay wrong', 'payment', 'payment approv', 'payment complet', 'payment detail', 'payment effect', 'payment file', 'payment final', 'payment suppos', 'payment year', 'pepsico', 'pepsico mba', 'per', 'per person', 'perform', 'perform star', 'period', 'period edc', 'person', 'person choic', 'person day', 'person repli', 'perus', 'perus wait', 'phone', 'phone age', 'phone nhi', 'pictur', 'pictur 500', 'pictur itun', 'piyush', 'piyush mishra', 'place', 'place could', 'place mexico', 'place visit', 'pleas', 'pleas feel', 'pleas inform', 'pleas look', 'pleas provid', 'pleas reconfirm', 'pleas regist', 'pleas tell', 'pleasur', 'pleasur introduc', 'popular', 'popular footfal', 'possibl', 'possibl interest', 'poster', 'practic', 'practic approach', 'prefer', 'prefer 13', 'present', 'present financ', 'present idea', 'pressur', 'pressur respons', 'previous', 'previous edit', 'price', 'price 85', 'proceed', 'proceed immedi', 'proceed issu', 'process', 'process connect', 'proctor', 'proctor test', 'product', 'product updat', 'program', 'program brochur', 'program detail', 'program durat', 'program machin', 'program opportun', 'program program', 'program start', 'promis', 'promis even', 'prompt', 'prompt respons', 'propos', 'propos attach', 'provid', 'provid bank', 'provid detail', 'provid packag', 'provid regard', 'provid trade', 'public', 'public trade', 'quarter', 'quarter payment', 'queri', 'queri messag', 'question', 'question concern', 'quick', 'quick onlin', 'randi', 'randi baazon', 'rank', 'rank employe', 'reach', 'reach help', 'read', 'read messag', 'read way', 'readi', 'readi 13', 'readi receiv', 'realiti', 'realiti upgrad', 'reason', 'reason take', 'receipt', 'receipt itun', 'receiv', 'receiv 13', 'receiv approv', 'receiv sinc', 'reconfirm', 'reconfirm offic', 'refer', 'refer 13', 'regard', 'regard abhishek', 'regard compens', 'regard edc', 'regard minimum', 'regist', 'regist follow', 'regist one', 'regist use', 'registr', 'registr fee', 'registr form', 'registr link', 'releas', 'releas via', 'remain', 'remain 13', 'repeat', 'repeat fee', 'repli', 'repli back', 'repres', 'repres inform', 'request', 'request send', 'requir', 'requir cash', 'requir pay', 'requir submit', 'respect', 'respect origin', 'respect sir', 'respons', 'respons come', 'respons email', 'respons pay', 'respons pleas', 'respons registr', 'return', 'return better', 'revenu', 'revenu except', 'rich', 'rich suiss', 'rise', 'rise popular', 'risk', 'risk manag', 'role', 'role compar', 'roy', 'roy chief', 'rs', 'rs 35', 'rs 350', 'rs 700', 'rs 900', 'saalon', 'saalon randi', 'sachin', 'sachin roy', 'said', 'said marco', 'saini', 'saini boy', 'saket', 'saket https', 'sale', 'sale appl', 'salient', 'salient featur', 'sbdbdbx', 'sc', 'sc machin', 'schedul', 'schedul mainten', 'scholarship', 'scholarship rs', 'scratch', 'scratch card', 'seat', 'seat left', 'secur', 'secur affidavit', 'see', 'see new', 'select', 'select deleg', 'senat', 'senat hous', 'send', 'send 500', 'send immedi', 'send pictur', 'senior', 'senior corpor', 'sensibl', 'sensibl workshop', 'sent', 'sent select', 'sent vivo', 'servic', 'servic deleg', 'servic offlin', 'servic time', 'servic undergo', 'servic would', 'sethi', 'sethi senior', 'sethi sent', 'seven', 'seven work', 'shall', 'shall proceed', 'shortlist', 'shortlist test', 'simplifi', 'simplifi link', 'sinc', 'sinc last', 'sinc told', 'singapor', 'singapor malaysia', 'sir', 'sir greet', 'sir would', 'skill', 'skill regist', 'smartphon', 'snack', 'snack offer', 'snov', 'snov io', 'snovio', 'snovio februari', 'social', 'social sphere', 'soon', 'soon get', 'soon read', 'special', 'special follow', 'special offer', 'spent', 'spent workshop', 'sphere', 'sphere enhanc', 'sponsor', 'sponsor partner', 'st', 'st studi', 'star', 'star like', 'start', 'start date', 'state', 'status', 'status occup', 'stay', 'stay new', 'still', 'still refer', 'store', 'store sale', 'strict', 'strict advic', 'studi', 'studi afl', 'studi ceo', 'studi compens', 'submit', 'submit inclus', 'success', 'success complet', 'success repeat', 'success year', 'suiss', 'suiss account', 'summer', 'summer need', 'summit', 'summit flagship', 'sunidhi', 'sunidhi chauhan', 'supervisori', 'supervisori role', 'suppos', 'suppos receiv', 'swift', 'swift code', 'switzerland', 'switzerland ab', 'take', 'take 20', 'take 500', 'take break', 'take home', 'take note', 'take pictur', 'take quick', 'take shortlist', 'take test', 'tax', 'tax program', 'tea', 'tea apolog', 'team', 'technolog', 'technolog univers', 'telex', 'telex transfer', 'tell', 'tell best', 'tell tentat', 'templat', 'templat built', 'templat use', 'tentat', 'tentat amount', 'test', 'test download', 'test note', 'test take', 'thank', 'thank regard', 'thank snov', 'though', 'though lower', 'three', 'three year', 'thrill', 'thrill accompani', 'till', 'till 20th', 'time', 'time even', 'time gaand', 'time much', 'time return', 'time time', 'time us', 'time visit', 'today', 'today brief', 'today execut', 'today first', 'today last', 'today order', 'today regard', 'told', 'told latest', 'top', 'top 10', 'top 30', 'top 400', 'top job', 'total', 'total fraud', 'total wast', 'tour', 'tour packag', 'trade', 'trade american', 'trade invest', 'transfer', 'transfer bank', 'transfer direct', 'transfer ktt', 'transfer meanwhil', 'transfer still', 'trip', 'trip cover', 'trip goa', 'trip pleas', 'trivedi', 'trivedi bassjack', 'true', 'true repres', 'type', 'type queri', 'typic', 'typic ceo', 'typic employe', 'uk', 'uk enrol', 'uk upon', 'undergo', 'undergo schedul', 'understand', 'understand concept', 'understand program', 'univers', 'univers 8th', 'univers dream', 'univers former', 'univers uk', 'up', 'upcom', 'upcom gala', 'updat', 'updat let', 'upgrad', 'upgrad com', 'upgrad liverpool', 'upgrad master', 'upon', 'upon receipt', 'upon success', 'urgenc', 'urgenc man', 'urgent', 'urgent respons', 'us', 'us cross', 'us immens', 'us inform', 'us massiv', 'us mastersml', 'us monitor', 'usa', 'usa fee', 'use', 'use email', 'use follow', 'uthata', 'uthata fraud', 'vaibhav', 'vaibhav greet', 'vala', 'vala koi', 'valid', 'valid first', 'valuabl', 'valuabl one', 'varieti', 'varieti multipurpos', 'various', 'various possibl', 'verif', 'verif direct', 'via', 'via key', 'via onlin', 'video', 'video 1355853927873650', 'visit', 'visit delhi', 'visit mauritius', 'visit offici', 'visit regard', 'visit state', 'vivo', 'vivo smartphon', 'wait', 'wait prompt', 'wall', 'wall st', 'want', 'want make', 'want visit', 'wast', 'wast money', 'watch', 'watch zrv4nkceglw', 'way', 'way choos', 'websit', 'websit http', 'wednesday', 'wednesday march', 'well', 'well 300', 'well oil', 'what', 'what servic', 'whether', 'whether gap', 'whole', 'whole month', 'wire', 'wire transfer', 'wit', 'wit huge', 'wit perform', 'within', 'within 30', 'within next', 'work', 'work day', 'work hard', 'workshop', 'workshop competit', 'workshop detail', 'workshop give', 'workshop valuabl', 'world', 'world bank', 'world sunidhi', 'would', 'would around', 'would get', 'would includ', 'would like', 'would pleas', 'would provid', 'would requir', 'write', 'write us', 'wrong', 'wrong account', 'www', 'www facebook', 'www youtub', 'www2', 'www2 upgrad', 'yale', 'yale univers', 'year', 'year 2017', 'year 2019', 'year engifest', 'yesterday', 'yesterday letter', 'youtu', 'youtu cizbqtj1xfc', 'youtub', 'youtub com', 'zero', 'zero take', 'zrv4nkceglw', 'zrv4nkceglw link']\n"
     ]
    }
   ],
   "source": [
    "print(cv.get_feature_names())"
   ]
  },
  {
   "cell_type": "code",
   "execution_count": null,
   "metadata": {},
   "outputs": [],
   "source": []
  },
  {
   "cell_type": "code",
   "execution_count": 23,
   "metadata": {},
   "outputs": [],
   "source": [
    "def get_last_message():\n",
    "    user = \"gotravel.agsr@gmail.com\"\n",
    "    password = \"AbhishekSachin\"\n",
    "    imap_url = \"imap.googlemail.com\"\n",
    "\n",
    "    con = imaplib.IMAP4_SSL(imap_url)\n",
    "\n",
    "\n",
    "    login = con.login(user,password)\n",
    "\n",
    "    result,section_data = con.select('INBOX')\n",
    "    number_of_mails = section_data[0].decode('utf-8')\n",
    "\n",
    "\n",
    "    result,data = con.fetch(section_data[0],'(RFC822)') #section_data[0] = no. of mails so we would get the last mail.\n",
    "\n",
    "\n",
    "    raw = email.message_from_bytes(data[0][1])\n",
    "    message = raw.get_payload(0).get_payload(None,True)\n",
    "\n",
    "    message = message.decode(\"utf-8\")\n",
    "    \n",
    "    return message\n"
   ]
  },
  {
   "cell_type": "code",
   "execution_count": 24,
   "metadata": {},
   "outputs": [],
   "source": [
    "message = get_last_message()\n",
    "initial_message = message"
   ]
  },
  {
   "cell_type": "code",
   "execution_count": 25,
   "metadata": {},
   "outputs": [
    {
     "name": "stdout",
     "output_type": "stream",
     "text": [
      "packag visit india tourist place india\n"
     ]
    }
   ],
   "source": [
    "message = clean_mail(message)\n",
    "print(message)"
   ]
  },
  {
   "cell_type": "code",
   "execution_count": 26,
   "metadata": {},
   "outputs": [],
   "source": [
    "from sklearn.naive_bayes import MultinomialNB"
   ]
  },
  {
   "cell_type": "code",
   "execution_count": 27,
   "metadata": {},
   "outputs": [
    {
     "name": "stdout",
     "output_type": "stream",
     "text": [
      "MultinomialNB(alpha=1.0, class_prior=None, fit_prior=True)\n"
     ]
    }
   ],
   "source": [
    "mnb = MultinomialNB()\n",
    "print(mnb)"
   ]
  },
  {
   "cell_type": "code",
   "execution_count": 28,
   "metadata": {},
   "outputs": [
    {
     "data": {
      "text/plain": [
       "MultinomialNB(alpha=1.0, class_prior=None, fit_prior=True)"
      ]
     },
     "execution_count": 28,
     "metadata": {},
     "output_type": "execute_result"
    }
   ],
   "source": [
    "# Training \n",
    "mnb.fit(x_vec,Y)"
   ]
  },
  {
   "cell_type": "code",
   "execution_count": 29,
   "metadata": {},
   "outputs": [],
   "source": [
    "message = [message]\n",
    "message_vec = cv.transform(message)"
   ]
  },
  {
   "cell_type": "code",
   "execution_count": 30,
   "metadata": {},
   "outputs": [
    {
     "name": "stdout",
     "output_type": "stream",
     "text": [
      "['ham']\n"
     ]
    }
   ],
   "source": [
    "print(mnb.predict(message_vec))"
   ]
  },
  {
   "cell_type": "code",
   "execution_count": 31,
   "metadata": {},
   "outputs": [
    {
     "name": "stdout",
     "output_type": "stream",
     "text": [
      "What is the package for visiting India? and what are all the tourist places\r\n",
      "in India?\r\n",
      "\n"
     ]
    }
   ],
   "source": [
    "prediction = mnb.predict(message_vec)\n",
    "if prediction[0] == 'ham':\n",
    "\tprint(initial_message)\n",
    "else:\n",
    "\tch = input(\"Message is spam. Do you want to see it? ->\")\n",
    "\tif ch == 'y':\n",
    "\t\tprint(initial_message)\n",
    "\telse:\n",
    "\t\tpass\n"
   ]
  },
  {
   "cell_type": "code",
   "execution_count": null,
   "metadata": {},
   "outputs": [],
   "source": []
  },
  {
   "cell_type": "code",
   "execution_count": null,
   "metadata": {},
   "outputs": [],
   "source": []
  },
  {
   "cell_type": "code",
   "execution_count": null,
   "metadata": {},
   "outputs": [],
   "source": []
  }
 ],
 "metadata": {
  "kernelspec": {
   "display_name": "Python 3",
   "language": "python",
   "name": "python3"
  },
  "language_info": {
   "codemirror_mode": {
    "name": "ipython",
    "version": 3
   },
   "file_extension": ".py",
   "mimetype": "text/x-python",
   "name": "python",
   "nbconvert_exporter": "python",
   "pygments_lexer": "ipython3",
   "version": "3.7.0"
  }
 },
 "nbformat": 4,
 "nbformat_minor": 2
}
